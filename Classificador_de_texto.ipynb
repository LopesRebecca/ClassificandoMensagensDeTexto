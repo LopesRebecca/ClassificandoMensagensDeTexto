{
  "cells": [
    {
      "cell_type": "markdown",
      "metadata": {
        "id": "5fCEDCU_qrC0"
      },
      "source": [
        "<p><img alt=\"Colaboratory logo\" height=\"45px\" src=\"/img/colab_favicon.ico\" align=\"left\" hspace=\"10px\" vspace=\"0px\"></p>\n",
        "\n",
        "<h1>O que é o Colaboratory?</h1>\n",
        "\n",
        "O Colaboratory ou \"Colab\" permite escrever código Python no seu navegador, com: \n",
        "- Nenhuma configuração necessária\n",
        "- Acesso gratuito a GPUs\n",
        "- Compartilhamento fácil\n",
        "\n",
        "Você pode ser um <strong>estudante</strong>, um <strong>cientista de dados</strong> ou um <strong>pesquisador de IA</strong>, o Colab pode facilitar seu trabalho. Assista ao vídeo <a href=\"https://www.youtube.com/watch?v=inN8seMm7UI\">Introdução ao Colab</a> para saber mais ou simplesmente comece a usá-lo abaixo!"
      ]
    },
    {
      "cell_type": "markdown",
      "source": [
        "# Implementando classificador de texto em python"
      ],
      "metadata": {
        "id": "Qq5K4t8AHycn"
      }
    },
    {
      "cell_type": "code",
      "source": [
        "#imports \n",
        "\n",
        "import numpy as np\n",
        "from sklearn.datasets import fetch_20newsgroups  #dataset de teste\n",
        "from sklearn.feature_extraction.text import TfidfVectorizer #letra -> pontuação de frequencia \n",
        "from sklearn.feature_extraction.text import TfidfVectorizer #classificador linear padrão SVM\n",
        "from sklearn.neural_network import MLPClassifier #rede neural multicamadas\n",
        "from sklearn import metrics #modelos de metricas\n",
        "from sklearn.metrics import confusion_matrix  #quantas classificações\n",
        "import matplotlib.pyplot as plt\n",
        "%matplotlib inline"
      ],
      "metadata": {
        "id": "j0yvHykAH8Ou"
      },
      "execution_count": null,
      "outputs": []
    },
    {
      "cell_type": "code",
      "source": [
        "#diminuindo categorias\n",
        "categories = ['talk.politics.misc', 'rec.autos'] # duas categorias, carros e politicas\n",
        "#subset -> indicador, shuffle -> emparalha os dados, random_state -> o quao baralhado estar\n",
        "twenty_train = fetch_20newsgroups(subset='train',categories=categories, shuffle=True, random_state=42)"
      ],
      "metadata": {
        "id": "QOrTq5lhM5ZP"
      },
      "execution_count": null,
      "outputs": []
    },
    {
      "cell_type": "code",
      "source": [
        "#dados de treino\n",
        "vectorizer = TfidfVectorizer()\n",
        "#utilizando o tf-idf\n",
        "X_train_tfidf_vectorize = vectorizer.fit_transform(twenty_train.data)"
      ],
      "metadata": {
        "id": "vfslOGGwOCL7"
      },
      "execution_count": null,
      "outputs": []
    },
    {
      "cell_type": "code",
      "source": [
        "#treinando classificador\n",
        "clf = MLPClassifier(solver='lbfgs', alpha=1e-5, hidden_layer_sizes=(70, ), random_state=1, verbose=True)\n",
        "clf.fit(X_train_tfidf_vectorize, twenty_train.target) #passa os dados e seus rotulos \n",
        "\n",
        "#avaliar a perfomace\n",
        "twenty_test = fetch_20newsgroups(subset='test', categories=categories, shuffle=True, random_state=42)\n",
        "docs_test = twenty_test.data\n",
        "\n",
        "vect_transform = vectorizer.transform(docs_test) #transforma em numero\n",
        "predicted = clf.predict(vect_transform) #precição em cima dos numeros \n",
        "\n",
        "#relatorio da performase\n",
        "print(metrics.classification_report(twenty_test.target, predicted,target_names=twenty_test.target_names))\n",
        "print(clf.classes_) #ordem das classes\n",
        "\n",
        "\"\"\"\n",
        " a matriz de confução serve para intepretar o relatorio sendo, as linhas as classes que se pretendem obter\n",
        " e as colunas as classes que de fato foram alcançadas\n",
        " \"\"\"\n",
        "confusion_matrix = confusion_matrix(twenty_test.target, predicted)\n",
        "print(confusion_matrix)"
      ],
      "metadata": {
        "id": "qdDinP4gOe9d",
        "outputId": "f5eb23e2-6c71-4014-c0c7-a0510ff2bdd1",
        "colab": {
          "base_uri": "https://localhost:8080/"
        }
      },
      "execution_count": null,
      "outputs": [
        {
          "output_type": "stream",
          "name": "stdout",
          "text": [
            "                    precision    recall  f1-score   support\n",
            "\n",
            "         rec.autos       0.95      0.98      0.97       396\n",
            "talk.politics.misc       0.98      0.93      0.95       310\n",
            "\n",
            "          accuracy                           0.96       706\n",
            "         macro avg       0.96      0.96      0.96       706\n",
            "      weighted avg       0.96      0.96      0.96       706\n",
            "\n",
            "[0 1]\n",
            "[[390   6]\n",
            " [ 22 288]]\n"
          ]
        }
      ]
    },
    {
      "cell_type": "code",
      "source": [
        "#plotando os dados\n",
        "plt.matshow(confusion_matrix)\n",
        "plt.title(\"Matriz de confusão\")\n",
        "plt.colorbar()\n",
        "plt.ylabel(\"Classificações efetiva\")\n",
        "plt.xlabel(\"Classificações predenção\")\n",
        "plt.show()"
      ],
      "metadata": {
        "id": "SNJAeiUDQY0j",
        "outputId": "8dbbe96c-5f4e-4e3a-8a44-ff8ee1e9537f",
        "colab": {
          "base_uri": "https://localhost:8080/",
          "height": 257
        }
      },
      "execution_count": null,
      "outputs": [
        {
          "output_type": "display_data",
          "data": {
            "image/png": "[encoded data removed]",
            "text/plain": [
              "<Figure size 288x288 with 2 Axes>"
            ]
          },
          "metadata": {
            "needs_background": "light"
          }
        }
      ]
    },
    {
      "cell_type": "code",
      "source": [
        "docs_new = [\n",
        "    'This is a question that is only beginning to be explored. The present collection makes a contribution to the investigations into the use of language in those situations which, informally and intuitively, we call ‘political’. Such an approach is revealing not only for politics itself but also for the human language capacity.'\n",
        "]\n",
        "\n",
        "X_new_tfidf_vectorize = vectorizer.transform(docs_new)\n",
        "\n",
        "predicted = clf.predict(X_new_tfidf_vectorize)\n",
        "\n",
        "for doc, category in zip(docs_new, predicted):\n",
        "    print('%r => %s' % (doc, twenty_train.target_names[category]))"
      ],
      "metadata": {
        "id": "XEaKvF3WRYBR",
        "outputId": "8f9f8237-c95f-42bf-b0fc-1957d4d09671",
        "colab": {
          "base_uri": "https://localhost:8080/"
        }
      },
      "execution_count": null,
      "outputs": [
        {
          "output_type": "stream",
          "name": "stdout",
          "text": [
            "'This is a question that is only beginning to be explored. The present collection makes a contribution to the investigations into the use of language in those situations which, informally and intuitively, we call ‘political’. Such an approach is revealing not only for politics itself but also for the human language capacity.' => talk.politics.misc\n"
          ]
        }
      ]
    }
  ],
  "metadata": {
    "colab": {
      "collapsed_sections": [],
      "name": "Classificador de texto ",
      "toc_visible": true,
      "provenance": []
    },
    "kernelspec": {
      "display_name": "Python 3",
      "name": "python3"
    }
  },
  "nbformat": 4,
  "nbformat_minor": 0
}